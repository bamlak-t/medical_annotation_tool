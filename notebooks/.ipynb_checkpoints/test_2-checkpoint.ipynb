{
 "cells": [
  {
   "cell_type": "code",
   "execution_count": 1,
   "id": "d02f540c-2308-4b04-8902-ad64bec473e2",
   "metadata": {
    "scrolled": true
   },
   "outputs": [],
   "source": [
    "from langchain.prompts.example_selector import SemanticSimilarityExampleSelector\n",
    "from langchain.vectorstores import Chroma\n",
    "from langchain_community.embeddings import OllamaEmbeddings\n",
    "from langchain.prompts import FewShotPromptTemplate, PromptTemplate\n",
    "from langchain_community.llms import Ollama\n",
    "from langchain.output_parsers import StructuredOutputParser, ResponseSchema\n",
    "from langchain.chains import LLMChain\n",
    "import pandas as pd\n",
    "import numpy as np\n",
    "import time"
   ]
  },
  {
   "cell_type": "code",
   "execution_count": 2,
   "id": "e359a575-ec19-4743-8869-3f88c623b376",
   "metadata": {},
   "outputs": [],
   "source": [
    "# model: llama 2,  mistral, medllama2\n",
    "model = \"mistral\"\n",
    "embedding_model = \"mistral\"\n",
    "\n",
    "# taxonomy\n",
    "taxonomy_file_name = \"sirch_json_1.txt\"\n",
    "\n",
    "# examples\n",
    "example_set_size = 10\n",
    "example_data_file_name = \"data.csv\"\n",
    "example_batch_size = 1\n",
    "num_examples = 2\n",
    "\n",
    "# input/output\n",
    "extract_index = 0\n",
    "prompt_index = 4"
   ]
  },
  {
   "cell_type": "code",
   "execution_count": 3,
   "id": "83ff36f1-7e87-43a6-b582-97ae0c6229d9",
   "metadata": {},
   "outputs": [],
   "source": [
    "# prompts\n",
    "prompt_0 = '''Assume the role of a medical expert. Using the following taxonomy: {taxonomy} of human factors containing factors, subfactors and subsubfactors, I want you to find a list of the most relevant text segments to annotate in the following medical case: {text_extract}. Then for relevant text segments in the medical case, find the most fitting labels using the taxonomy to give the output as list of human factors in the following format: (\"text extract 1\": [\"factor1\", \"factor2\", ...], ...) and nothing else.'''\n",
    "# added \\n (line breaks) and used gpt4 to reword initial prompt\n",
    "prompt_1 = '''Imagine you are a medical expert. Given the following taxonomy:\\n {taxonomy}\\n of human factors containing factors, subfactors, and subsubfactors, your task is to find relevant text segments in this medical case:\\n {text_extract}\\n. Then, for each relevant text segment, identify the most fitting labels using the taxonomy. Present the output as a list of human factors in the following format: (\"text extract 1\": [\"factor1\", \"factor2\", ...], ...)'''\n",
    "# moved taxonomy to start\n",
    "prompt_2 = '''TAXONOMY: {taxonomy}\\n\\nImagine you are a medical expert. Using the taxonomy containing human factors containing factors, subfactors, and subsubfactors, your task is to find relevant text segments in the medical case:\\n {text_extract}\\n. Then, for each relevant text segment, identify the most fitting labels using the taxonomy. Present the output as a list of human factors in the following format: {{'TEXT_EXTRACT_1': [\"FACTOR_1\", \"FACTOR_2\", ...], ...}}  '''\n",
    "# moved medical extract to start\n",
    "prompt_3 = '''TAXONOMY: {taxonomy}\\n\\nMEDICAL CASE: {text_extract}\\n\\n Imagine you are a medical expert. Using the taxonomy containing human factors containing factors, subfactors, and subsubfactors, your task is to find relevant text segments in the medical case. Then, for each relevant text segment, identify the most fitting labels using the taxonomy. Present the output as a list of human factors in the following format: {{'TEXT_EXTRACT_1': [\"FACTOR_1\", \"FACTOR_2\", ...], ...}}  '''\n",
    "# added output parser instead of manual format\n",
    "prompt_4 = '''TAXONOMY: {taxonomy}\\n\\nMEDICAL CASE: {text_extract}\\n\\n Imagine you are a medical expert. Using the taxonomy containing human factors containing factors, subfactors, and subsubfactors, your task is to find relevant text segments in the medical case. Then, for each relevant text segment, identify the most fitting labels using the taxonomy.\\n\\n{format_instructions}'''\n",
    "\n",
    "\n",
    "prompts = [prompt_0, prompt_1, prompt_2, prompt_3, prompt_4]\n",
    "prompt = prompts[prompt_index]"
   ]
  },
  {
   "cell_type": "code",
   "execution_count": 4,
   "id": "c4d25551-4c71-4e97-8529-ab34177a2223",
   "metadata": {},
   "outputs": [],
   "source": [
    "# medical extracts\n",
    "extract_0 = \"Time pressures in triage led to missed opportunities to identify mothers’ additional needs and risks, resulting in delays in recognizing abnormal fetal heart rate tracings and decisions for delivery.\"\n",
    "extract_1 = \"The IOL proforma was not fully completed and staff delivering care did not follow the correct procedure for undertaking observations on the Mother and Baby.\"\n",
    "\n",
    "extracts = [extract_0, extract_1]\n",
    "extract = extracts[extract_index]"
   ]
  },
  {
   "cell_type": "code",
   "execution_count": 5,
   "id": "27560f04-0225-4723-90d6-c44cb3701ba7",
   "metadata": {},
   "outputs": [
    {
     "data": {
      "text/html": [
       "<div>\n",
       "<style scoped>\n",
       "    .dataframe tbody tr th:only-of-type {\n",
       "        vertical-align: middle;\n",
       "    }\n",
       "\n",
       "    .dataframe tbody tr th {\n",
       "        vertical-align: top;\n",
       "    }\n",
       "\n",
       "    .dataframe thead th {\n",
       "        text-align: right;\n",
       "    }\n",
       "</style>\n",
       "<table border=\"1\" class=\"dataframe\">\n",
       "  <thead>\n",
       "    <tr style=\"text-align: right;\">\n",
       "      <th></th>\n",
       "      <th>FileID</th>\n",
       "      <th>Code</th>\n",
       "      <th>GPT rephrased sentence 1</th>\n",
       "      <th>GPT rephrased sentence 2</th>\n",
       "      <th>GPT rephrased sentence 3</th>\n",
       "      <th>GPT rephrased sentence 4</th>\n",
       "      <th>GPT rephrased sentence 5</th>\n",
       "    </tr>\n",
       "  </thead>\n",
       "  <tbody>\n",
       "    <tr>\n",
       "      <th>0</th>\n",
       "      <td>1</td>\n",
       "      <td>Assessment, investigation, testing, screening ...</td>\n",
       "      <td>The Mother was diagnosed with hypertension at ...</td>\n",
       "      <td>The Mother was diagnosed with hypertension at ...</td>\n",
       "      <td>The Mother was diagnosed with hypertension at ...</td>\n",
       "      <td>The Mother was diagnosed with hypertension at ...</td>\n",
       "      <td>The Mother was diagnosed with hypertension at ...</td>\n",
       "    </tr>\n",
       "    <tr>\n",
       "      <th>1</th>\n",
       "      <td>2</td>\n",
       "      <td>Physical characteristics</td>\n",
       "      <td>The Mother was diagnosed with hypertension at ...</td>\n",
       "      <td>The Mother was diagnosed with hypertension at ...</td>\n",
       "      <td>The Mother was diagnosed with hypertension at ...</td>\n",
       "      <td>The Mother was diagnosed with hypertension at ...</td>\n",
       "      <td>The Mother was diagnosed with hypertension at ...</td>\n",
       "    </tr>\n",
       "    <tr>\n",
       "      <th>2</th>\n",
       "      <td>3</td>\n",
       "      <td>Guidance</td>\n",
       "      <td>The Mother was diagnosed with hypertension at ...</td>\n",
       "      <td>The Mother was diagnosed with hypertension at ...</td>\n",
       "      <td>The Mother was diagnosed with hypertension at ...</td>\n",
       "      <td>The Mother was diagnosed with hypertension at ...</td>\n",
       "      <td>The Mother was diagnosed with hypertension at ...</td>\n",
       "    </tr>\n",
       "    <tr>\n",
       "      <th>3</th>\n",
       "      <td>4</td>\n",
       "      <td>Escalation/referral factor (including fresh ey...</td>\n",
       "      <td>A senior obstetrician did not make the decisio...</td>\n",
       "      <td>A senior obstetrician did not make the decisio...</td>\n",
       "      <td>The senior obstetrician did not have time to m...</td>\n",
       "      <td>The senior obstetrician was too busy to make a...</td>\n",
       "      <td>The senior obstetrician was unable to make a d...</td>\n",
       "    </tr>\n",
       "    <tr>\n",
       "      <th>4</th>\n",
       "      <td>5</td>\n",
       "      <td>Acuity (e.g., capacity of the maternity unit a...</td>\n",
       "      <td>A senior obstetrician did not make the decisio...</td>\n",
       "      <td>A senior obstetrician did not make the decisio...</td>\n",
       "      <td>The senior obstetrician did not have time to m...</td>\n",
       "      <td>The senior obstetrician was too busy to make a...</td>\n",
       "      <td>The senior obstetrician was unable to make a d...</td>\n",
       "    </tr>\n",
       "  </tbody>\n",
       "</table>\n",
       "</div>"
      ],
      "text/plain": [
       "   FileID                                               Code  \\\n",
       "0       1  Assessment, investigation, testing, screening ...   \n",
       "1       2                           Physical characteristics   \n",
       "2       3                                           Guidance   \n",
       "3       4  Escalation/referral factor (including fresh ey...   \n",
       "4       5  Acuity (e.g., capacity of the maternity unit a...   \n",
       "\n",
       "                            GPT rephrased sentence 1  \\\n",
       "0  The Mother was diagnosed with hypertension at ...   \n",
       "1  The Mother was diagnosed with hypertension at ...   \n",
       "2  The Mother was diagnosed with hypertension at ...   \n",
       "3  A senior obstetrician did not make the decisio...   \n",
       "4  A senior obstetrician did not make the decisio...   \n",
       "\n",
       "                            GPT rephrased sentence 2  \\\n",
       "0  The Mother was diagnosed with hypertension at ...   \n",
       "1  The Mother was diagnosed with hypertension at ...   \n",
       "2  The Mother was diagnosed with hypertension at ...   \n",
       "3  A senior obstetrician did not make the decisio...   \n",
       "4  A senior obstetrician did not make the decisio...   \n",
       "\n",
       "                            GPT rephrased sentence 3  \\\n",
       "0  The Mother was diagnosed with hypertension at ...   \n",
       "1  The Mother was diagnosed with hypertension at ...   \n",
       "2  The Mother was diagnosed with hypertension at ...   \n",
       "3  The senior obstetrician did not have time to m...   \n",
       "4  The senior obstetrician did not have time to m...   \n",
       "\n",
       "                            GPT rephrased sentence 4  \\\n",
       "0  The Mother was diagnosed with hypertension at ...   \n",
       "1  The Mother was diagnosed with hypertension at ...   \n",
       "2  The Mother was diagnosed with hypertension at ...   \n",
       "3  The senior obstetrician was too busy to make a...   \n",
       "4  The senior obstetrician was too busy to make a...   \n",
       "\n",
       "                            GPT rephrased sentence 5  \n",
       "0  The Mother was diagnosed with hypertension at ...  \n",
       "1  The Mother was diagnosed with hypertension at ...  \n",
       "2  The Mother was diagnosed with hypertension at ...  \n",
       "3  The senior obstetrician was unable to make a d...  \n",
       "4  The senior obstetrician was unable to make a d...  "
      ]
     },
     "execution_count": 5,
     "metadata": {},
     "output_type": "execute_result"
    }
   ],
   "source": [
    "df = pd.read_csv(example_data_file_name)\n",
    "df.head()"
   ]
  },
  {
   "cell_type": "code",
   "execution_count": 6,
   "id": "3241d90e-f74b-4526-936b-241193953639",
   "metadata": {
    "scrolled": true
   },
   "outputs": [
    {
     "data": {
      "text/html": [
       "<div>\n",
       "<style scoped>\n",
       "    .dataframe tbody tr th:only-of-type {\n",
       "        vertical-align: middle;\n",
       "    }\n",
       "\n",
       "    .dataframe tbody tr th {\n",
       "        vertical-align: top;\n",
       "    }\n",
       "\n",
       "    .dataframe thead th {\n",
       "        text-align: right;\n",
       "    }\n",
       "</style>\n",
       "<table border=\"1\" class=\"dataframe\">\n",
       "  <thead>\n",
       "    <tr style=\"text-align: right;\">\n",
       "      <th></th>\n",
       "      <th>GPT rephrased sentence 1</th>\n",
       "      <th>Labels</th>\n",
       "    </tr>\n",
       "  </thead>\n",
       "  <tbody>\n",
       "    <tr>\n",
       "      <th>0</th>\n",
       "      <td>A MEOWS score was calculated on several occasi...</td>\n",
       "      <td>[Assessment, investigation, testing, screening...</td>\n",
       "    </tr>\n",
       "    <tr>\n",
       "      <th>1</th>\n",
       "      <td>A combination of handwritten and electronic an...</td>\n",
       "      <td>[Risk assessment, Documentation]</td>\n",
       "    </tr>\n",
       "    <tr>\n",
       "      <th>2</th>\n",
       "      <td>A debrief did not take place because it was to...</td>\n",
       "      <td>[Communication]</td>\n",
       "    </tr>\n",
       "    <tr>\n",
       "      <th>3</th>\n",
       "      <td>A decision to rescue the intravenous cannula r...</td>\n",
       "      <td>[Functionality (including cleaning and PPE)]</td>\n",
       "    </tr>\n",
       "    <tr>\n",
       "      <th>4</th>\n",
       "      <td>A decision was made to transfer Abigail to the...</td>\n",
       "      <td>[Equipment failure]</td>\n",
       "    </tr>\n",
       "  </tbody>\n",
       "</table>\n",
       "</div>"
      ],
      "text/plain": [
       "                            GPT rephrased sentence 1  \\\n",
       "0  A MEOWS score was calculated on several occasi...   \n",
       "1  A combination of handwritten and electronic an...   \n",
       "2  A debrief did not take place because it was to...   \n",
       "3  A decision to rescue the intravenous cannula r...   \n",
       "4  A decision was made to transfer Abigail to the...   \n",
       "\n",
       "                                              Labels  \n",
       "0  [Assessment, investigation, testing, screening...  \n",
       "1                   [Risk assessment, Documentation]  \n",
       "2                                    [Communication]  \n",
       "3       [Functionality (including cleaning and PPE)]  \n",
       "4                                [Equipment failure]  "
      ]
     },
     "execution_count": 6,
     "metadata": {},
     "output_type": "execute_result"
    }
   ],
   "source": [
    "grouped = df[[\"Code\", \"GPT rephrased sentence 1\"]].groupby('GPT rephrased sentence 1')['Code'].apply(list).reset_index(name='Labels')\n",
    "grouped.head()"
   ]
  },
  {
   "cell_type": "code",
   "execution_count": 7,
   "id": "17fcb9e0-5454-4f07-a6e4-a6981d4553f8",
   "metadata": {},
   "outputs": [],
   "source": [
    "taxonomy = \"\"\n",
    "with open(taxonomy_file_name, 'r') as file:\n",
    "    taxonomy = file.read().replace('\\n', ' ')#.replace(\" \", \"\")"
   ]
  },
  {
   "cell_type": "code",
   "execution_count": 8,
   "id": "8d71b32e-629d-4599-ba49-2962eebcca2c",
   "metadata": {},
   "outputs": [
    {
     "name": "stderr",
     "output_type": "stream",
     "text": [
      "/usr/local/lib/python3.10/dist-packages/numpy/core/fromnumeric.py:59: FutureWarning: 'DataFrame.swapaxes' is deprecated and will be removed in a future version. Please use 'DataFrame.transpose' instead.\n",
      "  return bound(*args, **kwds)\n"
     ]
    }
   ],
   "source": [
    "batches = np.array_split(grouped, grouped.shape[0] / example_batch_size)\n",
    "\n",
    "examples = []\n",
    "for batch in batches[:example_set_size]:\n",
    "    inp = \"\"\n",
    "    out = \"\"\n",
    "    for index, item in batch.iterrows():\n",
    "        inp += \" \" + item['GPT rephrased sentence 1']\n",
    "        label = ', '.join(f'\"{i}\"' for i in item['Labels'])\n",
    "        out += ', \"' + item['GPT rephrased sentence 1'] +  '''\": [''' + label + ']'\n",
    "        \n",
    "    # example = {\"input\": inp[1:], \"output\": \"{{\" + out[2:] + \"}}\"}\n",
    "    example = {\"input\": inp[1:], \"output\": \"{{\" + out[2:] + \"}}\"}\n",
    "\n",
    "    examples.append(example)\n",
    "\n",
    "# examples[:3]"
   ]
  },
  {
   "cell_type": "code",
   "execution_count": 9,
   "id": "813c1207",
   "metadata": {},
   "outputs": [
    {
     "data": {
      "text/plain": [
       "'The output should be a markdown code snippet formatted in the following schema, including the leading and trailing \"```json\" and \"```\":\\n\\n```json\\n{\\n\\t\"text_extract\": string  // Text extract from the medical case\\n\\t\"factors\": List[string]  // List of factors associated with the text extract\\n}\\n```'"
      ]
     },
     "execution_count": 9,
     "metadata": {},
     "output_type": "execute_result"
    }
   ],
   "source": [
    "# only should work when there is one concept within the text extract\n",
    "response_schemas = [\n",
    "    ResponseSchema(\n",
    "        name='text_extract',\n",
    "        type='string',\n",
    "        description='Text extract from the medical case'\n",
    "    ),\n",
    "    ResponseSchema(\n",
    "        name='factors',\n",
    "        type='List[string]',\n",
    "        description='List of factors associated with the text extract'\n",
    "    )\n",
    "]\n",
    "\n",
    "output_parser = StructuredOutputParser.from_response_schemas(response_schemas)\n",
    "format_instructions = output_parser.get_format_instructions()\n",
    "format_instructions"
   ]
  },
  {
   "cell_type": "code",
   "execution_count": 10,
   "id": "13284b1d-8dfe-49f2-9728-89a7170783ba",
   "metadata": {},
   "outputs": [],
   "source": [
    "llm = Ollama(model=model) \n",
    "\n",
    "example_prompt = PromptTemplate(\n",
    "    input_variables=[\"input\", \"output\"],\n",
    "    # input_variables=[\"input\", \"taxonomy\", \"output\"],\n",
    "    template=\"Example Input: {input}\\nExample Output: {output}\",\n",
    "    # template=\"Example Input: {input}\\nExample Taxonomy: {taxonomy}\\nExample Output: {output}\",\n",
    ")"
   ]
  },
  {
   "cell_type": "code",
   "execution_count": 11,
   "id": "efbc070a-8cb5-4117-8fc8-eeb323ea80f8",
   "metadata": {},
   "outputs": [],
   "source": [
    "example_selector = SemanticSimilarityExampleSelector.from_examples(\n",
    "    examples, \n",
    "    OllamaEmbeddings(model=embedding_model), \n",
    "    Chroma, \n",
    "    k=num_examples\n",
    ")"
   ]
  },
  {
   "cell_type": "code",
   "execution_count": 12,
   "id": "d2e20b15-c517-4a9d-85ab-c53a567e91f2",
   "metadata": {},
   "outputs": [
    {
     "name": "stdout",
     "output_type": "stream",
     "text": [
      "TAXONOMY: {\"taxonomy\":[{\"title\":\"External Environment\",\"factors\":[{\"title\":\"Policy factor\"},{\"title\":\"Societal factor\"},{\"title\":\"Economic factor\"},{\"title\":\"COVID\"},{\"title\":\"Geographical factor (e.g. Location of patient)\"}]},{\"title\":\"Internal Environment\",\"factors\":[{\"title\":\"Physical layout and Environment\"},{\"title\":\"Acuity (e.g., capacity of the maternity unit as a whole)\"},{\"title\":\"Availability (e.g., operating theatres)\"},{\"title\":\"Time of day (e.g., night working or day of the week)\"},{\"title\":\"Policy\"}]},{\"title\":\"Organisation\",\"factors\":[{\"title\":\"Team culture factor (e.g., patient safety culture)\"},{\"title\":\"Incentive factor (e.g., performance evaluation)\"},{\"title\":\"Teamworking\"},{\"title\":\"Communication factor\",\"sub-factors\":[{\"title\":\"Between staff\"},{\"title\":\"Between staff and patient (verbal)\"}]},{\"title\":\"Documentation\"},{\"title\":\"Escalation/referral factor (including fresh eyes reviews)\"},{\"title\":\"National and/or local guidance\"},{\"title\":\"Language barrier\"}]},{\"title\":\"Jobs/Task\",\"factors\":[{\"title\":\"Assessment, investigation, testing, screening (e.g., holistic review)\"},{\"title\":\"Care planning\"},{\"title\":\"Dispensing, administering\"},{\"title\":\"Monitoring\"},{\"title\":\"Risk assessment\"},{\"title\":\"Situation awareness (e.g., loss of helicopter view)\"},{\"title\":\"Obstetric review\"}]},{\"title\":\"Technologies and Tools\",\"factors\":[{\"title\":\"Issues\"},{\"title\":\"Interpretation (e.g., CTG)\"}]},{\"title\":\"Person\",\"factors\":[{\"title\":\"Patient (characteristics and performance)\",\"sub-factors\":[{\"title\":\"Characteristics\",\"sub-sub-factors\":[{\"title\":\"Physical characteristics\"},{\"title\":\"Psychological characteristics (e.g., stress, mental health)\"},{\"title\":\"Language competence (English)\"},{\"title\":\"Disability (e.g., hearing problems)\"},{\"title\":\"Training and education (e.g., attendance at ante-natal classes)\"},{\"title\":\"Record of attendance (e.g., failure to attend antenatal classes)\"}]},{\"title\":\"Performance\",\"sub-sub-factors\":[{\"title\":\"Slip or lapse (errors that tend to happen in routine tasks that people are doing without much conscious thought)\"},{\"title\":\"Decision error (errors in conscious judgements, decisions due to lack of knowledge and from misunderstanding of a situation)\"},{\"title\":\"Intentional rule breaking (deliberately do something different from rules)\"}]}]},{\"title\":\"Staff (characteristics and performance)\",\"sub-factors\":[{\"title\":\"Characteristics\",\"sub-sub-factors\":[{\"title\":\"Physical characteristics\"},{\"title\":\"Psychological characteristics (e.g., stress, mental health)\"},{\"title\":\"Language competence (English)\"},{\"title\":\"Disability (e.g., hearing problems)\"},{\"title\":\"Training and education (e.g., attendance at ante-natal classes)\"},{\"title\":\"Record of attendance (e.g., failure to attend antenatal classes)\"}]},{\"title\":\"Performance\",\"sub-sub-factors\":[{\"title\":\"Slip or lapse (errors that tend to happen in routine tasks that people are doing without much conscious thought)\"},{\"title\":\"Decision error (errors in conscious judgements, decisions due to lack of knowledge and from misunderstanding of a situation)\"},{\"title\":\"Intentional rule breaking (deliberately do something different from rules)\"}]}]}]}]}\n",
      "\n",
      "MEDICAL CASE: Time pressures in triage led to missed opportunities to identify mothers’ additional needs and risks, resulting in delays in recognizing abnormal fetal heart rate tracings and decisions for delivery.\n",
      "\n",
      " Imagine you are a medical expert. Using the taxonomy containing human factors containing factors, subfactors, and subsubfactors, your task is to find relevant text segments in the medical case. Then, for each relevant text segment, identify the most fitting labels using the taxonomy.\n",
      "The output should be a markdown code snippet formatted in the following schema, including the leading and trailing \"```json\" and \"```\":\n",
      "\n",
      "```json\n",
      "{\n",
      "\t\"text_extract\": string  // Text extract from the medical case\n",
      "\t\"factors\": List[string]  // List of factors associated with the text extract\n",
      "}\n",
      "```\n",
      "\n",
      "Example Input: A diagnosis of latent phase of labour was made which meant that staff did not initiate a labour schedule of IA.\n",
      "Example Output: {\"A diagnosis of latent phase of labour was made which meant that staff did not initiate a labour schedule of IA.\": [\"Decision error (errors in conscious judgements, decisions due to lack of knowledge and from misunderstanding of a situation)\"]}\n",
      "\n",
      "Example Input: A delay between the birth of a baby s head and their body may cause the baby to not get enough oxygen.\n",
      "Example Output: {\"A delay between the birth of a baby s head and their body may cause the baby to not get enough oxygen.\": [\"Teamworking\"]}\n",
      "\n",
      "Input: Time pressures in triage led to missed opportunities to identify mothers’ additional needs and risks, resulting in delays in recognizing abnormal fetal heart rate tracings and decisions for delivery.\n",
      "Output:\n"
     ]
    }
   ],
   "source": [
    "similar_prompt = FewShotPromptTemplate(\n",
    "    example_selector=example_selector,\n",
    "    example_prompt=example_prompt,\n",
    "    prefix=prompt,\n",
    "    suffix=\"Input: {text_extract}\\nOutput:\",\n",
    "    input_variables=[\"text_extract\"],\n",
    "    partial_variables={\"format_instructions\": format_instructions},\n",
    ")\n",
    "\n",
    "print(similar_prompt.format(text_extract=extract, taxonomy=taxonomy))"
   ]
  },
  {
   "cell_type": "code",
   "execution_count": 13,
   "id": "0df10714-e968-4883-bdec-579193e7aba3",
   "metadata": {},
   "outputs": [
    {
     "name": "stdout",
     "output_type": "stream",
     "text": [
      "Time taken 39.67866086959839 seconds\n"
     ]
    }
   ],
   "source": [
    "chain = similar_prompt | llm\n",
    "\n",
    "start_time = time.time()\n",
    "results = []\n",
    "for x in range(10):\n",
    "    output = chain.invoke({\"text_extract\": extract, \"taxonomy\": taxonomy})\n",
    "    results.append(output)\n",
    "end_time = time.time()\n",
    "\n",
    "print(\"Time taken\", end_time - start_time, \"seconds\")"
   ]
  },
  {
   "cell_type": "code",
   "execution_count": 14,
   "id": "b5c64b88-c3a1-47a3-b2d3-d114bdcc60b3",
   "metadata": {},
   "outputs": [
    {
     "data": {
      "text/plain": [
       "[' {\"Input\": \"Time pressures in triage led to missed opportunities to identify mothers’ additional needs and risks, resulting in delays in recognizing abnormal fetal heart rate tracings and decisions for delivery.\",\\n \"factors\": [\"Policy factor (e.g., triage process)\", \"Economic factor (e.g., staffing levels)\", \"Decision error (errors in conscious judgements, decisions due to lack of knowledge and from misunderstanding of a situation)\", \"Communication factor (between staff)\", \"Risk assessment\"]}',\n",
       " ' {\"Input\": [\"Time pressures in triage led to missed opportunities to identify mothers’ additional needs and risks, resulting in delays in recognizing abnormal fetal heart rate tracings and decisions for delivery.\"],\\n \"factors\": [\"Policy factor (e.g., triage policies)\", \"Time of day (e.g., night working or day of the week)\", \"Decision error (errors in conscious judgements, decisions due to lack of knowledge and from misunderstanding of a situation)\", \"Escalation/referral factor (including fresh eyes reviews)\"]}',\n",
       " ' {\"Input\": [\"Time pressures in triage led to missed opportunities to identify mothers’ additional needs and risks, resulting in delays in recognizing abnormal fetal heart rate tracings and decisions for delivery.\"], \"factors\": [\"Policy factor (e.g., triage policy)\", \"Economic factor (e.g., understaffed triage)\", \"Time of day (e.g., night working or day of the week)\", \"Situation awareness (e.g., loss of helicopter view)\", \"Decision error (errors in conscious judgements, decisions due to lack of knowledge and from misunderstanding of a situation)\", \"Escalation/referral factor (including fresh eyes reviews)\"]}',\n",
       " ' {\"Input\": \"Time pressures in triage led to missed opportunities to identify mothers’ additional needs and risks, resulting in delays in recognizing abnormal fetal heart rate tracings and decisions for delivery.\",\\n \"factors\": [\"Policy factor\", \"Economic factor (e.g., resource availability)\", \"Societal factor (e.g., patient workload)\", \"Teamworking\", \"Communication factor (between staff)\", \"Documentation\", \"Risk assessment\", \"Obstetric review\"]}',\n",
       " ' {\\n\\t\"text_extract\": \"Time pressures in triage led to missed opportunities to identify mothers’ additional needs and risks, resulting in delays in recognizing abnormal fetal heart rate tracings and decisions for delivery.\",\\n\\t\"factors\": [\"Policy factor\", \"Economic factor\", \"Time of day (e.g., night working or day of the week)\", \"Decision error (errors in conscious judgements, decisions due to lack of knowledge and from misunderstanding of a situation)\", \"Communication factor (between staff)\", \"Obstetric review\"]\\n}',\n",
       " ' {\"Input\": [\"Time pressures in triage led to missed opportunities to identify mothers’ additional needs and risks, resulting in delays in recognizing abnormal fetal heart rate tracings and decisions for delivery.\"],\\n \"factors\": [\"Policy factor (e.g., triage process)\", \"Time of day (e.g., night working or day of the week)\", \"Escalation/referral factor (including fresh eyes reviews)\", \"Decision error (errors in conscious judgements, decisions due to lack of knowledge and from misunderstanding of a situation)\"]}',\n",
       " ' {\"Input\": [\"Time pressures in triage led to missed opportunities to identify mothers’ additional needs and risks, resulting in delays in recognizing abnormal fetal heart rate tracings and decisions for delivery.\"], \"factors\": [\"Policy factor (e.g., understaffing or insufficient resources)\", \"Economic factor (e.g., budget constraints)\", \"Time of day (e.g., night working or day of the week)\", \"Decision error (errors in conscious judgements, decisions due to lack of knowledge and from misunderstanding of a situation)\", \"Risk assessment\"]}',\n",
       " ' {\"Input\": [\"Time pressures in triage led to missed opportunities to identify mothers’ additional needs and risks, resulting in delays in recognizing abnormal fetal heart rate tracings and decisions for delivery.\"], \"factors\": [\"Economic factor (e.g., capacity of the maternity unit as a whole)\", \"Time of day (e.g., night working or day of the week)\", \"Policy\", \"Obstetric review\", \"Risk assessment\", \"Communication factor (between staff)\", \"Documentation\"]}',\n",
       " ' {\"Input\": \"[Time pressures in triage led to missed opportunities to identify mothers’ additional needs and risks, resulting in delays in recognizing abnormal fetal heart rate tracings and decisions for delivery.]\" : [\"Policy factor (e.g., understaffing or lack of resources)\", \"Economic factor (e.g., budget constraints)\", \"Time of day (e.g., night working or day of the week)\", \"Decision error (errors in conscious judgements, decisions due to lack of knowledge and from misunderstanding of a situation)\", \"Communication factor (between staff)\", \"Risk assessment\", \"Obstetric review\"]}',\n",
       " ' {\"Input\": \"[Time pressures in triage led to missed opportunities to identify mothers’ additional needs and risks, resulting in delays in recognizing abnormal fetal heart rate tracings and decisions for delivery.]\" : [\"Policy factor (e.g., prioritization of workload)\", \"Economic factor (e.g., understaffing or resource constraints)\", \"Assessment, investigation, testing, screening (e.g., failure to perform proper assessment)\", \"Decision error (errors in conscious judgements, decisions due to lack of knowledge and from misunderstanding of a situation)\", \"Communication factor (sub-factors: between staff)\"]}']"
      ]
     },
     "execution_count": 14,
     "metadata": {},
     "output_type": "execute_result"
    }
   ],
   "source": [
    "results"
   ]
  },
  {
   "cell_type": "code",
   "execution_count": 17,
   "id": "1f54abc5-2947-48bd-988a-160871eacb08",
   "metadata": {},
   "outputs": [
    {
     "ename": "OutputParserException",
     "evalue": "Got invalid return object. Expected key `text_extract` to be present, but got {'Input': 'Time pressures in triage led to missed opportunities to identify mothers’ additional needs and risks, resulting in delays in recognizing abnormal fetal heart rate tracings and decisions for delivery.', 'factors': ['Policy factor (e.g., triage process)', 'Economic factor (e.g., staffing levels)', 'Decision error (errors in conscious judgements, decisions due to lack of knowledge and from misunderstanding of a situation)', 'Communication factor (between staff)', 'Risk assessment']}",
     "output_type": "error",
     "traceback": [
      "\u001b[0;31m---------------------------------------------------------------------------\u001b[0m",
      "\u001b[0;31mOutputParserException\u001b[0m                     Traceback (most recent call last)",
      "Cell \u001b[0;32mIn[17], line 1\u001b[0m\n\u001b[0;32m----> 1\u001b[0m \u001b[43moutput_parser\u001b[49m\u001b[38;5;241;43m.\u001b[39;49m\u001b[43mparse\u001b[49m\u001b[43m(\u001b[49m\u001b[43mresults\u001b[49m\u001b[43m[\u001b[49m\u001b[38;5;241;43m0\u001b[39;49m\u001b[43m]\u001b[49m\u001b[43m)\u001b[49m\n",
      "File \u001b[0;32m/usr/local/lib/python3.10/dist-packages/langchain/output_parsers/structured.py:97\u001b[0m, in \u001b[0;36mStructuredOutputParser.parse\u001b[0;34m(self, text)\u001b[0m\n\u001b[1;32m     95\u001b[0m \u001b[38;5;28;01mdef\u001b[39;00m \u001b[38;5;21mparse\u001b[39m(\u001b[38;5;28mself\u001b[39m, text: \u001b[38;5;28mstr\u001b[39m) \u001b[38;5;241m-\u001b[39m\u001b[38;5;241m>\u001b[39m Any:\n\u001b[1;32m     96\u001b[0m     expected_keys \u001b[38;5;241m=\u001b[39m [rs\u001b[38;5;241m.\u001b[39mname \u001b[38;5;28;01mfor\u001b[39;00m rs \u001b[38;5;129;01min\u001b[39;00m \u001b[38;5;28mself\u001b[39m\u001b[38;5;241m.\u001b[39mresponse_schemas]\n\u001b[0;32m---> 97\u001b[0m     \u001b[38;5;28;01mreturn\u001b[39;00m \u001b[43mparse_and_check_json_markdown\u001b[49m\u001b[43m(\u001b[49m\u001b[43mtext\u001b[49m\u001b[43m,\u001b[49m\u001b[43m \u001b[49m\u001b[43mexpected_keys\u001b[49m\u001b[43m)\u001b[49m\n",
      "File \u001b[0;32m/usr/local/lib/python3.10/dist-packages/langchain_core/output_parsers/json.py:180\u001b[0m, in \u001b[0;36mparse_and_check_json_markdown\u001b[0;34m(text, expected_keys)\u001b[0m\n\u001b[1;32m    178\u001b[0m \u001b[38;5;28;01mfor\u001b[39;00m key \u001b[38;5;129;01min\u001b[39;00m expected_keys:\n\u001b[1;32m    179\u001b[0m     \u001b[38;5;28;01mif\u001b[39;00m key \u001b[38;5;129;01mnot\u001b[39;00m \u001b[38;5;129;01min\u001b[39;00m json_obj:\n\u001b[0;32m--> 180\u001b[0m         \u001b[38;5;28;01mraise\u001b[39;00m OutputParserException(\n\u001b[1;32m    181\u001b[0m             \u001b[38;5;124mf\u001b[39m\u001b[38;5;124m\"\u001b[39m\u001b[38;5;124mGot invalid return object. Expected key `\u001b[39m\u001b[38;5;132;01m{\u001b[39;00mkey\u001b[38;5;132;01m}\u001b[39;00m\u001b[38;5;124m` \u001b[39m\u001b[38;5;124m\"\u001b[39m\n\u001b[1;32m    182\u001b[0m             \u001b[38;5;124mf\u001b[39m\u001b[38;5;124m\"\u001b[39m\u001b[38;5;124mto be present, but got \u001b[39m\u001b[38;5;132;01m{\u001b[39;00mjson_obj\u001b[38;5;132;01m}\u001b[39;00m\u001b[38;5;124m\"\u001b[39m\n\u001b[1;32m    183\u001b[0m         )\n\u001b[1;32m    184\u001b[0m \u001b[38;5;28;01mreturn\u001b[39;00m json_obj\n",
      "\u001b[0;31mOutputParserException\u001b[0m: Got invalid return object. Expected key `text_extract` to be present, but got {'Input': 'Time pressures in triage led to missed opportunities to identify mothers’ additional needs and risks, resulting in delays in recognizing abnormal fetal heart rate tracings and decisions for delivery.', 'factors': ['Policy factor (e.g., triage process)', 'Economic factor (e.g., staffing levels)', 'Decision error (errors in conscious judgements, decisions due to lack of knowledge and from misunderstanding of a situation)', 'Communication factor (between staff)', 'Risk assessment']}"
     ]
    }
   ],
   "source": [
    "output_parser.parse(results[0])"
   ]
  },
  {
   "cell_type": "code",
   "execution_count": null,
   "id": "a4edb216-65e7-420f-9a54-0813c4823375",
   "metadata": {},
   "outputs": [],
   "source": []
  }
 ],
 "metadata": {
  "kernelspec": {
   "display_name": "Python 3 (ipykernel)",
   "language": "python",
   "name": "python3"
  },
  "language_info": {
   "codemirror_mode": {
    "name": "ipython",
    "version": 3
   },
   "file_extension": ".py",
   "mimetype": "text/x-python",
   "name": "python",
   "nbconvert_exporter": "python",
   "pygments_lexer": "ipython3",
   "version": "3.10.12"
  }
 },
 "nbformat": 4,
 "nbformat_minor": 5
}
